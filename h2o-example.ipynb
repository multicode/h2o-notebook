{
 "cells": [
  {
   "cell_type": "markdown",
   "metadata": {},
   "source": [
    "# Kmeans Clustering - Iris Dataset "
   ]
  },
  {
   "cell_type": "code",
   "execution_count": 36,
   "metadata": {},
   "outputs": [
    {
     "name": "stdout",
     "output_type": "stream",
     "text": [
      "Checking whether there is an H2O instance running at http://localhost:54321. connected.\n",
      "Warning: Your H2O cluster version is too old (8 months and 30 days)! Please download and install the latest version from http://h2o.ai/download/\n"
     ]
    },
    {
     "data": {
      "text/html": [
       "<div style=\"overflow:auto\"><table style=\"width:50%\"><tr><td>H2O cluster uptime:</td>\n",
       "<td>35 secs</td></tr>\n",
       "<tr><td>H2O cluster version:</td>\n",
       "<td>3.10.0.9</td></tr>\n",
       "<tr><td>H2O cluster version age:</td>\n",
       "<td>8 months and 30 days !!!</td></tr>\n",
       "<tr><td>H2O cluster name:</td>\n",
       "<td>H2O_from_python_unknownUser_xvlqsv</td></tr>\n",
       "<tr><td>H2O cluster total nodes:</td>\n",
       "<td>1</td></tr>\n",
       "<tr><td>H2O cluster free memory:</td>\n",
       "<td>6.626 Gb</td></tr>\n",
       "<tr><td>H2O cluster total cores:</td>\n",
       "<td>8</td></tr>\n",
       "<tr><td>H2O cluster allowed cores:</td>\n",
       "<td>8</td></tr>\n",
       "<tr><td>H2O cluster status:</td>\n",
       "<td>locked, healthy</td></tr>\n",
       "<tr><td>H2O connection url:</td>\n",
       "<td>http://localhost:54321</td></tr>\n",
       "<tr><td>H2O connection proxy:</td>\n",
       "<td>None</td></tr>\n",
       "<tr><td>Python version:</td>\n",
       "<td>3.5.2 final</td></tr></table></div>"
      ],
      "text/plain": [
       "--------------------------  ----------------------------------\n",
       "H2O cluster uptime:         35 secs\n",
       "H2O cluster version:        3.10.0.9\n",
       "H2O cluster version age:    8 months and 30 days !!!\n",
       "H2O cluster name:           H2O_from_python_unknownUser_xvlqsv\n",
       "H2O cluster total nodes:    1\n",
       "H2O cluster free memory:    6.626 Gb\n",
       "H2O cluster total cores:    8\n",
       "H2O cluster allowed cores:  8\n",
       "H2O cluster status:         locked, healthy\n",
       "H2O connection url:         http://localhost:54321\n",
       "H2O connection proxy:\n",
       "Python version:             3.5.2 final\n",
       "--------------------------  ----------------------------------"
      ]
     },
     "metadata": {},
     "output_type": "display_data"
    }
   ],
   "source": [
    "import h2o\n",
    "h2o.init()"
   ]
  },
  {
   "cell_type": "code",
   "execution_count": 37,
   "metadata": {},
   "outputs": [
    {
     "name": "stdout",
     "output_type": "stream",
     "text": [
      "Parse progress: |█████████████████████████████████████████████████████████| 100%\n",
      "Rows:150\n",
      "Cols:5\n",
      "\n",
      "\n"
     ]
    },
    {
     "data": {
      "text/html": [
       "<table>\n",
       "<thead>\n",
       "<tr><th>       </th><th>sepal_len         </th><th>sepal_wid         </th><th>petal_len         </th><th>petal_wid          </th><th>class      </th></tr>\n",
       "</thead>\n",
       "<tbody>\n",
       "<tr><td>type   </td><td>real              </td><td>real              </td><td>real              </td><td>real               </td><td>enum       </td></tr>\n",
       "<tr><td>mins   </td><td>4.3               </td><td>2.0               </td><td>1.0               </td><td>0.1                </td><td>0.0        </td></tr>\n",
       "<tr><td>mean   </td><td>5.843333333333334 </td><td>3.0539999999999994</td><td>3.758666666666667 </td><td>1.1986666666666668 </td><td>NaN        </td></tr>\n",
       "<tr><td>maxs   </td><td>7.9               </td><td>4.4               </td><td>6.9               </td><td>2.5                </td><td>2.0        </td></tr>\n",
       "<tr><td>sigma  </td><td>0.8280661279778637</td><td>0.4335943113621737</td><td>1.7644204199522624</td><td>0.7631607417008414 </td><td>NaN        </td></tr>\n",
       "<tr><td>zeros  </td><td>0                 </td><td>0                 </td><td>0                 </td><td>0                  </td><td>50         </td></tr>\n",
       "<tr><td>missing</td><td>0                 </td><td>0                 </td><td>0                 </td><td>0                  </td><td>0          </td></tr>\n",
       "<tr><td>0      </td><td>5.1000000000000005</td><td>3.5               </td><td>1.4000000000000001</td><td>0.2                </td><td>Iris-setosa</td></tr>\n",
       "<tr><td>1      </td><td>4.9               </td><td>3.0               </td><td>1.4000000000000001</td><td>0.2                </td><td>Iris-setosa</td></tr>\n",
       "<tr><td>2      </td><td>4.7               </td><td>3.2               </td><td>1.3               </td><td>0.2                </td><td>Iris-setosa</td></tr>\n",
       "<tr><td>3      </td><td>4.6000000000000005</td><td>3.1               </td><td>1.5               </td><td>0.2                </td><td>Iris-setosa</td></tr>\n",
       "<tr><td>4      </td><td>5.0               </td><td>3.6               </td><td>1.4000000000000001</td><td>0.2                </td><td>Iris-setosa</td></tr>\n",
       "<tr><td>5      </td><td>5.4               </td><td>3.9000000000000004</td><td>1.7000000000000002</td><td>0.4                </td><td>Iris-setosa</td></tr>\n",
       "<tr><td>6      </td><td>4.6000000000000005</td><td>3.4000000000000004</td><td>1.4000000000000001</td><td>0.30000000000000004</td><td>Iris-setosa</td></tr>\n",
       "<tr><td>7      </td><td>5.0               </td><td>3.4000000000000004</td><td>1.5               </td><td>0.2                </td><td>Iris-setosa</td></tr>\n",
       "<tr><td>8      </td><td>4.4               </td><td>2.9000000000000004</td><td>1.4000000000000001</td><td>0.2                </td><td>Iris-setosa</td></tr>\n",
       "<tr><td>9      </td><td>4.9               </td><td>3.1               </td><td>1.5               </td><td>0.1                </td><td>Iris-setosa</td></tr>\n",
       "</tbody>\n",
       "</table>"
      ]
     },
     "metadata": {},
     "output_type": "display_data"
    }
   ],
   "source": [
    "iris = h2o.import_file(path='iris_wheader.csv')\n",
    "iris.describe()"
   ]
  },
  {
   "cell_type": "code",
   "execution_count": 16,
   "metadata": {
    "collapsed": true
   },
   "outputs": [],
   "source": [
    "from h2o.estimators.kmeans import H2OKMeansEstimator"
   ]
  },
  {
   "cell_type": "code",
   "execution_count": 17,
   "metadata": {
    "collapsed": true
   },
   "outputs": [],
   "source": [
    "results = [H2OKMeansEstimator(k=clusters, init=\"Random\", seed=2, standardize=True) for clusters in range(2,13)]"
   ]
  },
  {
   "cell_type": "code",
   "execution_count": 18,
   "metadata": {},
   "outputs": [
    {
     "name": "stdout",
     "output_type": "stream",
     "text": [
      "kmeans Model Build progress: |████████████████████████████████████████████| 100%\n",
      "kmeans Model Build progress: |████████████████████████████████████████████| 100%\n",
      "kmeans Model Build progress: |████████████████████████████████████████████| 100%\n",
      "kmeans Model Build progress: |████████████████████████████████████████████| 100%\n",
      "kmeans Model Build progress: |████████████████████████████████████████████| 100%\n",
      "kmeans Model Build progress: |████████████████████████████████████████████| 100%\n",
      "kmeans Model Build progress: |████████████████████████████████████████████| 100%\n",
      "kmeans Model Build progress: |████████████████████████████████████████████| 100%\n",
      "kmeans Model Build progress: |████████████████████████████████████████████| 100%\n",
      "kmeans Model Build progress: |████████████████████████████████████████████| 100%\n",
      "kmeans Model Build progress: |████████████████████████████████████████████| 100%\n"
     ]
    }
   ],
   "source": [
    "for estimator in results:\n",
    "    estimator.train(x=iris.col_names[0:-1], training_frame = iris)"
   ]
  },
  {
   "cell_type": "code",
   "execution_count": 19,
   "metadata": {
    "collapsed": true
   },
   "outputs": [],
   "source": [
    "clusters = 4"
   ]
  },
  {
   "cell_type": "code",
   "execution_count": 20,
   "metadata": {},
   "outputs": [
    {
     "name": "stdout",
     "output_type": "stream",
     "text": [
      "kmeans prediction progress: |█████████████████████████████████████████████| 100%\n"
     ]
    }
   ],
   "source": [
    "predicted = results[clusters-2].predict(iris)\n",
    "iris['Predicted']=predicted['predict'].asfactor()"
   ]
  },
  {
   "cell_type": "code",
   "execution_count": 21,
   "metadata": {},
   "outputs": [
    {
     "data": {
      "image/png": "[encoded data removed]",
      "text/plain": [
       "<matplotlib.figure.Figure at 0x7f7352ce8748>"
      ]
     },
     "metadata": {},
     "output_type": "display_data"
    }
   ],
   "source": [
    "import seaborn as sns\n",
    "%matplotlib inline\n",
    "sns.set()\n",
    "sns.pairplot(iris.as_data_frame(True), vars=[\"sepal_len\", \"sepal_wid\", \"petal_len\", \"petal_wid\"],  hue=\"Predicted\");"
   ]
  },
  {
   "cell_type": "markdown",
   "metadata": {},
   "source": [
    "# Deep Learning - Prostate Cancer Dataset"
   ]
  },
  {
   "cell_type": "code",
   "execution_count": 38,
   "metadata": {},
   "outputs": [
    {
     "name": "stdout",
     "output_type": "stream",
     "text": [
      "Parse progress: |█████████████████████████████████████████████████████████| 100%\n"
     ]
    }
   ],
   "source": [
    "prostate = h2o.import_file(path=\"prostate.csv\")"
   ]
  },
  {
   "cell_type": "code",
   "execution_count": 39,
   "metadata": {},
   "outputs": [
    {
     "name": "stdout",
     "output_type": "stream",
     "text": [
      "Rows:380\n",
      "Cols:9\n",
      "\n",
      "\n"
     ]
    },
    {
     "data": {
      "text/html": [
       "<table>\n",
       "<thead>\n",
       "<tr><th>       </th><th>ID                </th><th>CAPSULE           </th><th>AGE              </th><th>RACE              </th><th>DPROS             </th><th>DCAPS             </th><th>PSA               </th><th>VOL               </th><th>GLEASON           </th></tr>\n",
       "</thead>\n",
       "<tbody>\n",
       "<tr><td>type   </td><td>int               </td><td>int               </td><td>int              </td><td>int               </td><td>int               </td><td>int               </td><td>real              </td><td>real              </td><td>int               </td></tr>\n",
       "<tr><td>mins   </td><td>1.0               </td><td>0.0               </td><td>43.0             </td><td>0.0               </td><td>1.0               </td><td>1.0               </td><td>0.3               </td><td>0.0               </td><td>0.0               </td></tr>\n",
       "<tr><td>mean   </td><td>190.5             </td><td>0.4026315789473684</td><td>66.03947368421049</td><td>1.0868421052631572</td><td>2.2710526315789488</td><td>1.1078947368421048</td><td>15.408631578947375</td><td>15.812921052631573</td><td>6.3842105263157904</td></tr>\n",
       "<tr><td>maxs   </td><td>380.0             </td><td>1.0               </td><td>79.0             </td><td>2.0               </td><td>4.0               </td><td>2.0               </td><td>139.70000000000002</td><td>97.60000000000001 </td><td>9.0               </td></tr>\n",
       "<tr><td>sigma  </td><td>109.84079387914127</td><td>0.4910743389630552</td><td>6.527071269173311</td><td>0.3087732580252793</td><td>1.0001076181502861</td><td>0.3106564493514939</td><td>19.99757266856046 </td><td>18.347619967271175</td><td>1.0919533744261092</td></tr>\n",
       "<tr><td>zeros  </td><td>0                 </td><td>227               </td><td>0                </td><td>3                 </td><td>0                 </td><td>0                 </td><td>0                 </td><td>167               </td><td>2                 </td></tr>\n",
       "<tr><td>missing</td><td>0                 </td><td>0                 </td><td>0                </td><td>0                 </td><td>0                 </td><td>0                 </td><td>0                 </td><td>0                 </td><td>0                 </td></tr>\n",
       "<tr><td>0      </td><td>1.0               </td><td>0.0               </td><td>65.0             </td><td>1.0               </td><td>2.0               </td><td>1.0               </td><td>1.4000000000000001</td><td>0.0               </td><td>6.0               </td></tr>\n",
       "<tr><td>1      </td><td>2.0               </td><td>0.0               </td><td>72.0             </td><td>1.0               </td><td>3.0               </td><td>2.0               </td><td>6.7               </td><td>0.0               </td><td>7.0               </td></tr>\n",
       "<tr><td>2      </td><td>3.0               </td><td>0.0               </td><td>70.0             </td><td>1.0               </td><td>1.0               </td><td>2.0               </td><td>4.9               </td><td>0.0               </td><td>6.0               </td></tr>\n",
       "<tr><td>3      </td><td>4.0               </td><td>0.0               </td><td>76.0             </td><td>2.0               </td><td>2.0               </td><td>1.0               </td><td>51.2              </td><td>20.0              </td><td>7.0               </td></tr>\n",
       "<tr><td>4      </td><td>5.0               </td><td>0.0               </td><td>69.0             </td><td>1.0               </td><td>1.0               </td><td>1.0               </td><td>12.3              </td><td>55.9              </td><td>6.0               </td></tr>\n",
       "<tr><td>5      </td><td>6.0               </td><td>1.0               </td><td>71.0             </td><td>1.0               </td><td>3.0               </td><td>2.0               </td><td>3.3000000000000003</td><td>0.0               </td><td>8.0               </td></tr>\n",
       "<tr><td>6      </td><td>7.0               </td><td>0.0               </td><td>68.0             </td><td>2.0               </td><td>4.0               </td><td>2.0               </td><td>31.900000000000002</td><td>0.0               </td><td>7.0               </td></tr>\n",
       "<tr><td>7      </td><td>8.0               </td><td>0.0               </td><td>61.0             </td><td>2.0               </td><td>4.0               </td><td>2.0               </td><td>66.7              </td><td>27.2              </td><td>7.0               </td></tr>\n",
       "<tr><td>8      </td><td>9.0               </td><td>0.0               </td><td>69.0             </td><td>1.0               </td><td>1.0               </td><td>1.0               </td><td>3.9               </td><td>24.0              </td><td>7.0               </td></tr>\n",
       "<tr><td>9      </td><td>10.0              </td><td>0.0               </td><td>68.0             </td><td>2.0               </td><td>1.0               </td><td>2.0               </td><td>13.0              </td><td>0.0               </td><td>6.0               </td></tr>\n",
       "</tbody>\n",
       "</table>"
      ]
     },
     "metadata": {},
     "output_type": "display_data"
    }
   ],
   "source": [
    "prostate.describe()"
   ]
  },
  {
   "cell_type": "code",
   "execution_count": 40,
   "metadata": {},
   "outputs": [
    {
     "name": "stdout",
     "output_type": "stream",
     "text": [
      "deeplearning Model Build progress: |██████████████████████████████████████| 100%\n"
     ]
    }
   ],
   "source": [
    "from h2o.estimators.deeplearning import H2ODeepLearningEstimator\n",
    "prostate[\"CAPSULE\"] = prostate[\"CAPSULE\"].asfactor()\n",
    "model = H2ODeepLearningEstimator(activation = \"Tanh\", hidden = [10, 10, 10], epochs = 10000)\n",
    "model.train(x = list(set(prostate.columns) - set([\"ID\",\"CAPSULE\"])), y =\"CAPSULE\", training_frame = prostate)"
   ]
  },
  {
   "cell_type": "code",
   "execution_count": 45,
   "metadata": {},
   "outputs": [
    {
     "name": "stdout",
     "output_type": "stream",
     "text": [
      "Model Details\n",
      "=============\n",
      "H2ODeepLearningEstimator :  Deep Learning\n",
      "Model Key:  DeepLearning_model_python_1501752412747_1\n",
      "Status of Neuron Layers: predicting CAPSULE, 2-class classification, bernoulli distribution, CrossEntropy loss, 322 weights/biases, 8.5 KB, 2,933,600 training samples, mini-batch size 1\n",
      "\n"
     ]
    },
    {
     "data": {
      "text/html": [
       "<div style=\"overflow:auto\"><table style=\"width:50%\"><tr><td><b></b></td>\n",
       "<td><b>layer</b></td>\n",
       "<td><b>units</b></td>\n",
       "<td><b>type</b></td>\n",
       "<td><b>dropout</b></td>\n",
       "<td><b>l1</b></td>\n",
       "<td><b>l2</b></td>\n",
       "<td><b>mean_rate</b></td>\n",
       "<td><b>rate_rms</b></td>\n",
       "<td><b>momentum</b></td>\n",
       "<td><b>mean_weight</b></td>\n",
       "<td><b>weight_rms</b></td>\n",
       "<td><b>mean_bias</b></td>\n",
       "<td><b>bias_rms</b></td></tr>\n",
       "<tr><td></td>\n",
       "<td>1</td>\n",
       "<td>7</td>\n",
       "<td>Input</td>\n",
       "<td>0.0</td>\n",
       "<td></td>\n",
       "<td></td>\n",
       "<td></td>\n",
       "<td></td>\n",
       "<td></td>\n",
       "<td></td>\n",
       "<td></td>\n",
       "<td></td>\n",
       "<td></td></tr>\n",
       "<tr><td></td>\n",
       "<td>2</td>\n",
       "<td>10</td>\n",
       "<td>Tanh</td>\n",
       "<td>0.0</td>\n",
       "<td>0.0</td>\n",
       "<td>0.0</td>\n",
       "<td>0.0084123</td>\n",
       "<td>0.0087283</td>\n",
       "<td>0.0</td>\n",
       "<td>-0.0392631</td>\n",
       "<td>0.9764957</td>\n",
       "<td>-0.2311704</td>\n",
       "<td>0.6339996</td></tr>\n",
       "<tr><td></td>\n",
       "<td>3</td>\n",
       "<td>10</td>\n",
       "<td>Tanh</td>\n",
       "<td>0.0</td>\n",
       "<td>0.0</td>\n",
       "<td>0.0</td>\n",
       "<td>0.0250064</td>\n",
       "<td>0.0245677</td>\n",
       "<td>0.0</td>\n",
       "<td>0.0676371</td>\n",
       "<td>0.9329109</td>\n",
       "<td>-0.1913451</td>\n",
       "<td>0.9134653</td></tr>\n",
       "<tr><td></td>\n",
       "<td>4</td>\n",
       "<td>10</td>\n",
       "<td>Tanh</td>\n",
       "<td>0.0</td>\n",
       "<td>0.0</td>\n",
       "<td>0.0</td>\n",
       "<td>0.0681414</td>\n",
       "<td>0.0867704</td>\n",
       "<td>0.0</td>\n",
       "<td>-0.0816308</td>\n",
       "<td>1.5619226</td>\n",
       "<td>-0.2738558</td>\n",
       "<td>0.5290778</td></tr>\n",
       "<tr><td></td>\n",
       "<td>5</td>\n",
       "<td>2</td>\n",
       "<td>Softmax</td>\n",
       "<td></td>\n",
       "<td>0.0</td>\n",
       "<td>0.0</td>\n",
       "<td>0.0531388</td>\n",
       "<td>0.0496194</td>\n",
       "<td>0.0</td>\n",
       "<td>0.1488604</td>\n",
       "<td>5.1375427</td>\n",
       "<td>-0.0095150</td>\n",
       "<td>0.2040449</td></tr></table></div>"
      ],
      "text/plain": [
       "    layer    units    type     dropout    l1    l2    mean_rate             rate_rms              momentum    mean_weight           weight_rms          mean_bias              bias_rms\n",
       "--  -------  -------  -------  ---------  ----  ----  --------------------  --------------------  ----------  --------------------  ------------------  ---------------------  ------------------\n",
       "    1        7        Input    0.0\n",
       "    2        10       Tanh     0.0        0.0   0.0   0.008412343636570898  0.00872831791639328   0.0         -0.03926313099052225  0.9764957427978516  -0.23117039078535634   0.6339995861053467\n",
       "    3        10       Tanh     0.0        0.0   0.0   0.025006413215887733  0.024567678570747375  0.0         0.06763707689009607   0.9329109191894531  -0.19134508282345933   0.9134652614593506\n",
       "    4        10       Tanh     0.0        0.0   0.0   0.06814139541005716   0.0867704451084137    0.0         -0.08163077755831182  1.561922550201416   -0.2738557888039356    0.5290777683258057\n",
       "    5        2        Softmax             0.0   0.0   0.05313884690403938   0.04961942136287689   0.0         0.14886041348800064   5.137542724609375   -0.009514959201098766  0.2040448784828186"
      ]
     },
     "metadata": {},
     "output_type": "display_data"
    },
    {
     "name": "stdout",
     "output_type": "stream",
     "text": [
      "\n",
      "\n",
      "ModelMetricsBinomial: deeplearning\n",
      "** Reported on train data. **\n",
      "\n",
      "MSE: 0.0029911667306611964\n",
      "RMSE: 0.05469155995819827\n",
      "LogLoss: 0.008930610217649277\n",
      "Mean Per-Class Error: 0.0032679738562091387\n",
      "AUC: 0.9999424145575998\n",
      "Gini: 0.9998848291151996\n",
      "Confusion Matrix (Act/Pred) for max f1 @ threshold = 0.9578557938219074: \n"
     ]
    },
    {
     "data": {
      "text/html": [
       "<div style=\"overflow:auto\"><table style=\"width:50%\"><tr><td><b></b></td>\n",
       "<td><b>0</b></td>\n",
       "<td><b>1</b></td>\n",
       "<td><b>Error</b></td>\n",
       "<td><b>Rate</b></td></tr>\n",
       "<tr><td>0</td>\n",
       "<td>227.0</td>\n",
       "<td>0.0</td>\n",
       "<td>0.0</td>\n",
       "<td> (0.0/227.0)</td></tr>\n",
       "<tr><td>1</td>\n",
       "<td>1.0</td>\n",
       "<td>152.0</td>\n",
       "<td>0.0065</td>\n",
       "<td> (1.0/153.0)</td></tr>\n",
       "<tr><td>Total</td>\n",
       "<td>228.0</td>\n",
       "<td>152.0</td>\n",
       "<td>0.0026</td>\n",
       "<td> (1.0/380.0)</td></tr></table></div>"
      ],
      "text/plain": [
       "       0    1    Error    Rate\n",
       "-----  ---  ---  -------  -----------\n",
       "0      227  0    0        (0.0/227.0)\n",
       "1      1    152  0.0065   (1.0/153.0)\n",
       "Total  228  152  0.0026   (1.0/380.0)"
      ]
     },
     "metadata": {},
     "output_type": "display_data"
    },
    {
     "name": "stdout",
     "output_type": "stream",
     "text": [
      "Maximum Metrics: Maximum metrics at their respective thresholds\n",
      "\n"
     ]
    },
    {
     "data": {
      "text/html": [
       "<div style=\"overflow:auto\"><table style=\"width:50%\"><tr><td><b>metric</b></td>\n",
       "<td><b>threshold</b></td>\n",
       "<td><b>value</b></td>\n",
       "<td><b>idx</b></td></tr>\n",
       "<tr><td>max f1</td>\n",
       "<td>0.9578558</td>\n",
       "<td>0.9967213</td>\n",
       "<td>87.0</td></tr>\n",
       "<tr><td>max f2</td>\n",
       "<td>0.1637454</td>\n",
       "<td>0.9973924</td>\n",
       "<td>90.0</td></tr>\n",
       "<tr><td>max f0point5</td>\n",
       "<td>0.9578558</td>\n",
       "<td>0.9986859</td>\n",
       "<td>87.0</td></tr>\n",
       "<tr><td>max accuracy</td>\n",
       "<td>0.9578558</td>\n",
       "<td>0.9973684</td>\n",
       "<td>87.0</td></tr>\n",
       "<tr><td>max precision</td>\n",
       "<td>1.0000000</td>\n",
       "<td>1.0</td>\n",
       "<td>0.0</td></tr>\n",
       "<tr><td>max recall</td>\n",
       "<td>0.1637454</td>\n",
       "<td>1.0</td>\n",
       "<td>90.0</td></tr>\n",
       "<tr><td>max specificity</td>\n",
       "<td>1.0000000</td>\n",
       "<td>1.0</td>\n",
       "<td>0.0</td></tr>\n",
       "<tr><td>max absolute_mcc</td>\n",
       "<td>0.9578558</td>\n",
       "<td>0.9945385</td>\n",
       "<td>87.0</td></tr>\n",
       "<tr><td>max min_per_class_accuracy</td>\n",
       "<td>0.9578558</td>\n",
       "<td>0.9934641</td>\n",
       "<td>87.0</td></tr>\n",
       "<tr><td>max mean_per_class_accuracy</td>\n",
       "<td>0.9578558</td>\n",
       "<td>0.9967320</td>\n",
       "<td>87.0</td></tr></table></div>"
      ],
      "text/plain": [
       "metric                       threshold    value     idx\n",
       "---------------------------  -----------  --------  -----\n",
       "max f1                       0.957856     0.996721  87\n",
       "max f2                       0.163745     0.997392  90\n",
       "max f0point5                 0.957856     0.998686  87\n",
       "max accuracy                 0.957856     0.997368  87\n",
       "max precision                1            1         0\n",
       "max recall                   0.163745     1         90\n",
       "max specificity              1            1         0\n",
       "max absolute_mcc             0.957856     0.994538  87\n",
       "max min_per_class_accuracy   0.957856     0.993464  87\n",
       "max mean_per_class_accuracy  0.957856     0.996732  87"
      ]
     },
     "metadata": {},
     "output_type": "display_data"
    },
    {
     "name": "stdout",
     "output_type": "stream",
     "text": [
      "Gains/Lift Table: Avg response rate: 40.26 %\n",
      "\n"
     ]
    },
    {
     "data": {
      "text/html": [
       "<div style=\"overflow:auto\"><table style=\"width:50%\"><tr><td><b></b></td>\n",
       "<td><b>group</b></td>\n",
       "<td><b>cumulative_data_fraction</b></td>\n",
       "<td><b>lower_threshold</b></td>\n",
       "<td><b>lift</b></td>\n",
       "<td><b>cumulative_lift</b></td>\n",
       "<td><b>response_rate</b></td>\n",
       "<td><b>cumulative_response_rate</b></td>\n",
       "<td><b>capture_rate</b></td>\n",
       "<td><b>cumulative_capture_rate</b></td>\n",
       "<td><b>gain</b></td>\n",
       "<td><b>cumulative_gain</b></td></tr>\n",
       "<tr><td></td>\n",
       "<td>1</td>\n",
       "<td>0.0131579</td>\n",
       "<td>1.0</td>\n",
       "<td>2.4836601</td>\n",
       "<td>2.4836601</td>\n",
       "<td>1.0</td>\n",
       "<td>1.0</td>\n",
       "<td>0.0326797</td>\n",
       "<td>0.0326797</td>\n",
       "<td>148.3660131</td>\n",
       "<td>148.3660131</td></tr>\n",
       "<tr><td></td>\n",
       "<td>2</td>\n",
       "<td>0.0210526</td>\n",
       "<td>1.0000000</td>\n",
       "<td>2.4836601</td>\n",
       "<td>2.4836601</td>\n",
       "<td>1.0</td>\n",
       "<td>1.0</td>\n",
       "<td>0.0196078</td>\n",
       "<td>0.0522876</td>\n",
       "<td>148.3660131</td>\n",
       "<td>148.3660131</td></tr>\n",
       "<tr><td></td>\n",
       "<td>3</td>\n",
       "<td>0.0315789</td>\n",
       "<td>1.0000000</td>\n",
       "<td>2.4836601</td>\n",
       "<td>2.4836601</td>\n",
       "<td>1.0</td>\n",
       "<td>1.0</td>\n",
       "<td>0.0261438</td>\n",
       "<td>0.0784314</td>\n",
       "<td>148.3660131</td>\n",
       "<td>148.3660131</td></tr>\n",
       "<tr><td></td>\n",
       "<td>4</td>\n",
       "<td>0.0421053</td>\n",
       "<td>1.0000000</td>\n",
       "<td>2.4836601</td>\n",
       "<td>2.4836601</td>\n",
       "<td>1.0</td>\n",
       "<td>1.0</td>\n",
       "<td>0.0261438</td>\n",
       "<td>0.1045752</td>\n",
       "<td>148.3660131</td>\n",
       "<td>148.3660131</td></tr>\n",
       "<tr><td></td>\n",
       "<td>5</td>\n",
       "<td>0.05</td>\n",
       "<td>1.0000000</td>\n",
       "<td>2.4836601</td>\n",
       "<td>2.4836601</td>\n",
       "<td>1.0</td>\n",
       "<td>1.0</td>\n",
       "<td>0.0196078</td>\n",
       "<td>0.1241830</td>\n",
       "<td>148.3660131</td>\n",
       "<td>148.3660131</td></tr>\n",
       "<tr><td></td>\n",
       "<td>6</td>\n",
       "<td>0.1</td>\n",
       "<td>1.0000000</td>\n",
       "<td>2.4836601</td>\n",
       "<td>2.4836601</td>\n",
       "<td>1.0</td>\n",
       "<td>1.0</td>\n",
       "<td>0.1241830</td>\n",
       "<td>0.2483660</td>\n",
       "<td>148.3660131</td>\n",
       "<td>148.3660131</td></tr>\n",
       "<tr><td></td>\n",
       "<td>7</td>\n",
       "<td>0.15</td>\n",
       "<td>0.9999999</td>\n",
       "<td>2.4836601</td>\n",
       "<td>2.4836601</td>\n",
       "<td>1.0</td>\n",
       "<td>1.0</td>\n",
       "<td>0.1241830</td>\n",
       "<td>0.3725490</td>\n",
       "<td>148.3660131</td>\n",
       "<td>148.3660131</td></tr>\n",
       "<tr><td></td>\n",
       "<td>8</td>\n",
       "<td>0.2</td>\n",
       "<td>0.9999969</td>\n",
       "<td>2.4836601</td>\n",
       "<td>2.4836601</td>\n",
       "<td>1.0</td>\n",
       "<td>1.0</td>\n",
       "<td>0.1241830</td>\n",
       "<td>0.4967320</td>\n",
       "<td>148.3660131</td>\n",
       "<td>148.3660131</td></tr>\n",
       "<tr><td></td>\n",
       "<td>9</td>\n",
       "<td>0.3</td>\n",
       "<td>0.9998906</td>\n",
       "<td>2.4836601</td>\n",
       "<td>2.4836601</td>\n",
       "<td>1.0</td>\n",
       "<td>1.0</td>\n",
       "<td>0.2483660</td>\n",
       "<td>0.7450980</td>\n",
       "<td>148.3660131</td>\n",
       "<td>148.3660131</td></tr>\n",
       "<tr><td></td>\n",
       "<td>10</td>\n",
       "<td>0.4</td>\n",
       "<td>0.7337680</td>\n",
       "<td>2.4836601</td>\n",
       "<td>2.4836601</td>\n",
       "<td>1.0</td>\n",
       "<td>1.0</td>\n",
       "<td>0.2483660</td>\n",
       "<td>0.9934641</td>\n",
       "<td>148.3660131</td>\n",
       "<td>148.3660131</td></tr>\n",
       "<tr><td></td>\n",
       "<td>11</td>\n",
       "<td>0.5</td>\n",
       "<td>0.0001095</td>\n",
       "<td>0.0653595</td>\n",
       "<td>2.0</td>\n",
       "<td>0.0263158</td>\n",
       "<td>0.8052632</td>\n",
       "<td>0.0065359</td>\n",
       "<td>1.0</td>\n",
       "<td>-93.4640523</td>\n",
       "<td>100.0</td></tr>\n",
       "<tr><td></td>\n",
       "<td>12</td>\n",
       "<td>0.6</td>\n",
       "<td>0.0000023</td>\n",
       "<td>0.0</td>\n",
       "<td>1.6666667</td>\n",
       "<td>0.0</td>\n",
       "<td>0.6710526</td>\n",
       "<td>0.0</td>\n",
       "<td>1.0</td>\n",
       "<td>-100.0</td>\n",
       "<td>66.6666667</td></tr>\n",
       "<tr><td></td>\n",
       "<td>13</td>\n",
       "<td>0.7</td>\n",
       "<td>0.0000000</td>\n",
       "<td>0.0</td>\n",
       "<td>1.4285714</td>\n",
       "<td>0.0</td>\n",
       "<td>0.5751880</td>\n",
       "<td>0.0</td>\n",
       "<td>1.0</td>\n",
       "<td>-100.0</td>\n",
       "<td>42.8571429</td></tr>\n",
       "<tr><td></td>\n",
       "<td>14</td>\n",
       "<td>0.8</td>\n",
       "<td>0.0000000</td>\n",
       "<td>0.0</td>\n",
       "<td>1.25</td>\n",
       "<td>0.0</td>\n",
       "<td>0.5032895</td>\n",
       "<td>0.0</td>\n",
       "<td>1.0</td>\n",
       "<td>-100.0</td>\n",
       "<td>25.0</td></tr>\n",
       "<tr><td></td>\n",
       "<td>15</td>\n",
       "<td>0.9</td>\n",
       "<td>0.0000000</td>\n",
       "<td>0.0</td>\n",
       "<td>1.1111111</td>\n",
       "<td>0.0</td>\n",
       "<td>0.4473684</td>\n",
       "<td>0.0</td>\n",
       "<td>1.0</td>\n",
       "<td>-100.0</td>\n",
       "<td>11.1111111</td></tr>\n",
       "<tr><td></td>\n",
       "<td>16</td>\n",
       "<td>1.0</td>\n",
       "<td>0.0000000</td>\n",
       "<td>0.0</td>\n",
       "<td>1.0</td>\n",
       "<td>0.0</td>\n",
       "<td>0.4026316</td>\n",
       "<td>0.0</td>\n",
       "<td>1.0</td>\n",
       "<td>-100.0</td>\n",
       "<td>0.0</td></tr></table></div>"
      ],
      "text/plain": [
       "    group    cumulative_data_fraction    lower_threshold    lift       cumulative_lift    response_rate    cumulative_response_rate    capture_rate    cumulative_capture_rate    gain      cumulative_gain\n",
       "--  -------  --------------------------  -----------------  ---------  -----------------  ---------------  --------------------------  --------------  -------------------------  --------  -----------------\n",
       "    1        0.0131579                   1                  2.48366    2.48366            1                1                           0.0326797       0.0326797                  148.366   148.366\n",
       "    2        0.0210526                   1                  2.48366    2.48366            1                1                           0.0196078       0.0522876                  148.366   148.366\n",
       "    3        0.0315789                   1                  2.48366    2.48366            1                1                           0.0261438       0.0784314                  148.366   148.366\n",
       "    4        0.0421053                   1                  2.48366    2.48366            1                1                           0.0261438       0.104575                   148.366   148.366\n",
       "    5        0.05                        1                  2.48366    2.48366            1                1                           0.0196078       0.124183                   148.366   148.366\n",
       "    6        0.1                         1                  2.48366    2.48366            1                1                           0.124183        0.248366                   148.366   148.366\n",
       "    7        0.15                        1                  2.48366    2.48366            1                1                           0.124183        0.372549                   148.366   148.366\n",
       "    8        0.2                         0.999997           2.48366    2.48366            1                1                           0.124183        0.496732                   148.366   148.366\n",
       "    9        0.3                         0.999891           2.48366    2.48366            1                1                           0.248366        0.745098                   148.366   148.366\n",
       "    10       0.4                         0.733768           2.48366    2.48366            1                1                           0.248366        0.993464                   148.366   148.366\n",
       "    11       0.5                         0.000109513        0.0653595  2                  0.0263158        0.805263                    0.00653595      1                          -93.4641  100\n",
       "    12       0.6                         2.32937e-06        0          1.66667            0                0.671053                    0               1                          -100      66.6667\n",
       "    13       0.7                         1.05385e-09        0          1.42857            0                0.575188                    0               1                          -100      42.8571\n",
       "    14       0.8                         9.31605e-13        0          1.25               0                0.503289                    0               1                          -100      25\n",
       "    15       0.9                         2.55e-15           0          1.11111            0                0.447368                    0               1                          -100      11.1111\n",
       "    16       1                           4.79748e-31        0          1                  0                0.402632                    0               1                          -100      0"
      ]
     },
     "metadata": {},
     "output_type": "display_data"
    },
    {
     "name": "stdout",
     "output_type": "stream",
     "text": [
      "\n",
      "Scoring History: \n"
     ]
    },
    {
     "data": {
      "text/html": [
       "<div style=\"overflow:auto\"><table style=\"width:50%\"><tr><td><b></b></td>\n",
       "<td><b>timestamp</b></td>\n",
       "<td><b>duration</b></td>\n",
       "<td><b>training_speed</b></td>\n",
       "<td><b>epochs</b></td>\n",
       "<td><b>iterations</b></td>\n",
       "<td><b>samples</b></td>\n",
       "<td><b>training_rmse</b></td>\n",
       "<td><b>training_logloss</b></td>\n",
       "<td><b>training_auc</b></td>\n",
       "<td><b>training_lift</b></td>\n",
       "<td><b>training_classification_error</b></td></tr>\n",
       "<tr><td></td>\n",
       "<td>2017-08-03 09:27:59</td>\n",
       "<td> 0.000 sec</td>\n",
       "<td>None</td>\n",
       "<td>0.0</td>\n",
       "<td>0</td>\n",
       "<td>0.0</td>\n",
       "<td>nan</td>\n",
       "<td>nan</td>\n",
       "<td>nan</td>\n",
       "<td>nan</td>\n",
       "<td>nan</td></tr>\n",
       "<tr><td></td>\n",
       "<td>2017-08-03 09:28:00</td>\n",
       "<td> 2.311 sec</td>\n",
       "<td>3826 obs/sec</td>\n",
       "<td>10.0</td>\n",
       "<td>1</td>\n",
       "<td>3800.0</td>\n",
       "<td>0.4383376</td>\n",
       "<td>0.6015113</td>\n",
       "<td>0.8148052</td>\n",
       "<td>2.4836601</td>\n",
       "<td>0.2447368</td></tr>\n",
       "<tr><td></td>\n",
       "<td>2017-08-03 09:28:05</td>\n",
       "<td> 7.204 sec</td>\n",
       "<td>14971 obs/sec</td>\n",
       "<td>220.0</td>\n",
       "<td>22</td>\n",
       "<td>83600.0</td>\n",
       "<td>0.3323749</td>\n",
       "<td>0.3453434</td>\n",
       "<td>0.9243903</td>\n",
       "<td>2.4836601</td>\n",
       "<td>0.1421053</td></tr>\n",
       "<tr><td></td>\n",
       "<td>2017-08-03 09:28:10</td>\n",
       "<td>12.096 sec</td>\n",
       "<td>16117 obs/sec</td>\n",
       "<td>440.0</td>\n",
       "<td>44</td>\n",
       "<td>167200.0</td>\n",
       "<td>0.2818658</td>\n",
       "<td>0.2534749</td>\n",
       "<td>0.9672339</td>\n",
       "<td>2.4836601</td>\n",
       "<td>0.0921053</td></tr>\n",
       "<tr><td></td>\n",
       "<td>2017-08-03 09:28:15</td>\n",
       "<td>17.202 sec</td>\n",
       "<td>17052 obs/sec</td>\n",
       "<td>690.0</td>\n",
       "<td>69</td>\n",
       "<td>262200.0</td>\n",
       "<td>0.2184657</td>\n",
       "<td>0.1560456</td>\n",
       "<td>0.9849126</td>\n",
       "<td>2.4836601</td>\n",
       "<td>0.0605263</td></tr>\n",
       "<tr><td>---</td>\n",
       "<td>---</td>\n",
       "<td>---</td>\n",
       "<td>---</td>\n",
       "<td>---</td>\n",
       "<td>---</td>\n",
       "<td>---</td>\n",
       "<td>---</td>\n",
       "<td>---</td>\n",
       "<td>---</td>\n",
       "<td>---</td>\n",
       "<td>---</td></tr>\n",
       "<tr><td></td>\n",
       "<td>2017-08-03 09:31:20</td>\n",
       "<td> 3 min 22.308 sec</td>\n",
       "<td>13978 obs/sec</td>\n",
       "<td>7250.0</td>\n",
       "<td>725</td>\n",
       "<td>2755000.0</td>\n",
       "<td>0.0654276</td>\n",
       "<td>0.0123849</td>\n",
       "<td>0.9999424</td>\n",
       "<td>2.4836601</td>\n",
       "<td>0.0026316</td></tr>\n",
       "<tr><td></td>\n",
       "<td>2017-08-03 09:31:26</td>\n",
       "<td> 3 min 28.532 sec</td>\n",
       "<td>13939 obs/sec</td>\n",
       "<td>7420.0</td>\n",
       "<td>742</td>\n",
       "<td>2819600.0</td>\n",
       "<td>0.0896063</td>\n",
       "<td>0.0359095</td>\n",
       "<td>0.9993090</td>\n",
       "<td>2.4836601</td>\n",
       "<td>0.0078947</td></tr>\n",
       "<tr><td></td>\n",
       "<td>2017-08-03 09:31:36</td>\n",
       "<td> 3 min 38.193 sec</td>\n",
       "<td>13700 obs/sec</td>\n",
       "<td>7630.0</td>\n",
       "<td>763</td>\n",
       "<td>2899400.0</td>\n",
       "<td>0.1265279</td>\n",
       "<td>0.0740296</td>\n",
       "<td>0.9992514</td>\n",
       "<td>2.4836601</td>\n",
       "<td>0.0052632</td></tr>\n",
       "<tr><td></td>\n",
       "<td>2017-08-03 09:31:44</td>\n",
       "<td> 3 min 45.896 sec</td>\n",
       "<td>13380 obs/sec</td>\n",
       "<td>7720.0</td>\n",
       "<td>772</td>\n",
       "<td>2933600.0</td>\n",
       "<td>0.0871607</td>\n",
       "<td>0.0228689</td>\n",
       "<td>0.9998848</td>\n",
       "<td>2.4836601</td>\n",
       "<td>0.0052632</td></tr>\n",
       "<tr><td></td>\n",
       "<td>2017-08-03 09:31:44</td>\n",
       "<td> 3 min 46.001 sec</td>\n",
       "<td>13380 obs/sec</td>\n",
       "<td>7720.0</td>\n",
       "<td>772</td>\n",
       "<td>2933600.0</td>\n",
       "<td>0.0546916</td>\n",
       "<td>0.0089306</td>\n",
       "<td>0.9999424</td>\n",
       "<td>2.4836601</td>\n",
       "<td>0.0026316</td></tr></table></div>"
      ],
      "text/plain": [
       "     timestamp            duration          training_speed    epochs    iterations    samples    training_rmse        training_logloss      training_auc        training_lift       training_classification_error\n",
       "---  -------------------  ----------------  ----------------  --------  ------------  ---------  -------------------  --------------------  ------------------  ------------------  -------------------------------\n",
       "     2017-08-03 09:27:59  0.000 sec                           0.0       0             0.0        nan                  nan                   nan                 nan                 nan\n",
       "     2017-08-03 09:28:00  2.311 sec         3826 obs/sec      10.0      1             3800.0     0.43833761531010235  0.601511280292905     0.8148052172410815  2.4836601307189543  0.24473684210526317\n",
       "     2017-08-03 09:28:05  7.204 sec         14971 obs/sec     220.0     22            83600.0    0.3323749111367965   0.3453433913394319    0.9243903141285883  2.4836601307189543  0.14210526315789473\n",
       "     2017-08-03 09:28:10  12.096 sec        16117 obs/sec     440.0     44            167200.0   0.28186576956685055  0.2534749325749201    0.9672338832743083  2.4836601307189543  0.09210526315789473\n",
       "     2017-08-03 09:28:15  17.202 sec        17052 obs/sec     690.0     69            262200.0   0.2184657464742395   0.15604556116832463   0.9849126140911577  2.4836601307189543  0.060526315789473685\n",
       "---  ---                  ---               ---               ---       ---           ---        ---                  ---                   ---                 ---                 ---\n",
       "     2017-08-03 09:31:20  3 min 22.308 sec  13978 obs/sec     7250.0    725           2755000.0  0.06542758438345862  0.01238487294558978   0.9999424145575998  2.4836601307189543  0.002631578947368421\n",
       "     2017-08-03 09:31:26  3 min 28.532 sec  13939 obs/sec     7420.0    742           2819600.0  0.08960632933581605  0.03590952862272205   0.9993089746911981  2.4836601307189543  0.007894736842105263\n",
       "     2017-08-03 09:31:36  3 min 38.193 sec  13700 obs/sec     7630.0    763           2899400.0  0.12652789143923585  0.074029600114946     0.9992513892487979  2.4836601307189543  0.005263157894736842\n",
       "     2017-08-03 09:31:44  3 min 45.896 sec  13380 obs/sec     7720.0    772           2933600.0  0.08716067352875384  0.02286894277571684   0.9998848291151996  2.4836601307189543  0.005263157894736842\n",
       "     2017-08-03 09:31:44  3 min 46.001 sec  13380 obs/sec     7720.0    772           2933600.0  0.05469155995819827  0.008930610217649277  0.9999424145575998  2.4836601307189543  0.002631578947368421"
      ]
     },
     "metadata": {},
     "output_type": "display_data"
    },
    {
     "name": "stdout",
     "output_type": "stream",
     "text": [
      "\n",
      "See the whole table with table.as_data_frame()\n"
     ]
    }
   ],
   "source": [
    "model.show()"
   ]
  },
  {
   "cell_type": "code",
   "execution_count": 46,
   "metadata": {},
   "outputs": [
    {
     "name": "stdout",
     "output_type": "stream",
     "text": [
      "deeplearning prediction progress: |███████████████████████████████████████| 100%\n"
     ]
    },
    {
     "data": {
      "text/html": [
       "<table>\n",
       "<thead>\n",
       "<tr><th style=\"text-align: right;\">  predict</th><th style=\"text-align: right;\">         p0</th><th style=\"text-align: right;\">         p1</th></tr>\n",
       "</thead>\n",
       "<tbody>\n",
       "<tr><td style=\"text-align: right;\">        0</td><td style=\"text-align: right;\">1          </td><td style=\"text-align: right;\">3.01245e-08</td></tr>\n",
       "<tr><td style=\"text-align: right;\">        0</td><td style=\"text-align: right;\">0.999942   </td><td style=\"text-align: right;\">5.7529e-05 </td></tr>\n",
       "<tr><td style=\"text-align: right;\">        0</td><td style=\"text-align: right;\">1          </td><td style=\"text-align: right;\">2.6357e-15 </td></tr>\n",
       "<tr><td style=\"text-align: right;\">        0</td><td style=\"text-align: right;\">1          </td><td style=\"text-align: right;\">1.19706e-10</td></tr>\n",
       "<tr><td style=\"text-align: right;\">        0</td><td style=\"text-align: right;\">1          </td><td style=\"text-align: right;\">1.7787e-15 </td></tr>\n",
       "<tr><td style=\"text-align: right;\">        1</td><td style=\"text-align: right;\">2.04274e-13</td><td style=\"text-align: right;\">1          </td></tr>\n",
       "<tr><td style=\"text-align: right;\">        0</td><td style=\"text-align: right;\">1          </td><td style=\"text-align: right;\">9.97066e-13</td></tr>\n",
       "<tr><td style=\"text-align: right;\">        0</td><td style=\"text-align: right;\">1          </td><td style=\"text-align: right;\">7.83266e-11</td></tr>\n",
       "<tr><td style=\"text-align: right;\">        0</td><td style=\"text-align: right;\">0.998961   </td><td style=\"text-align: right;\">0.00103888 </td></tr>\n",
       "<tr><td style=\"text-align: right;\">        0</td><td style=\"text-align: right;\">1          </td><td style=\"text-align: right;\">1.32607e-13</td></tr>\n",
       "</tbody>\n",
       "</table>"
      ]
     },
     "metadata": {},
     "output_type": "display_data"
    }
   ],
   "source": [
    "predictions=model.predict(prostate)\n",
    "predictions.show()"
   ]
  },
  {
   "cell_type": "code",
   "execution_count": null,
   "metadata": {
    "collapsed": true
   },
   "outputs": [],
   "source": []
  }
 ],
 "metadata": {
  "kernelspec": {
   "display_name": "Python 3",
   "language": "python",
   "name": "python3"
  },
  "language_info": {
   "codemirror_mode": {
    "name": "ipython",
    "version": 3
   },
   "file_extension": ".py",
   "mimetype": "text/x-python",
   "name": "python",
   "nbconvert_exporter": "python",
   "pygments_lexer": "ipython3",
   "version": "3.5.2"
  }
 },
 "nbformat": 4,
 "nbformat_minor": 2
}
